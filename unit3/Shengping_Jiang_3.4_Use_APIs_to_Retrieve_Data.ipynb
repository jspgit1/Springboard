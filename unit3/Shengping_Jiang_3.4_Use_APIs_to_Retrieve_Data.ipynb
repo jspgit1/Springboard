{
 "cells": [
  {
   "cell_type": "markdown",
   "metadata": {},
   "source": [
    "This exercise will require you to pull some data from the Qunadl API. Qaundl is currently the most widely used aggregator of financial market data."
   ]
  },
  {
   "cell_type": "markdown",
   "metadata": {},
   "source": [
    "As a first step, you will need to register a free account on the http://www.quandl.com website."
   ]
  },
  {
   "cell_type": "markdown",
   "metadata": {},
   "source": [
    "After you register, you will be provided with a unique API key, that you should store:"
   ]
  },
  {
   "cell_type": "code",
   "execution_count": 33,
   "metadata": {},
   "outputs": [],
   "source": [
    "# Store the API key as a string - according to PEP8, constants are always named in all upper case\n",
    "API_KEY = 'vFyeeXumgxNU7yeVNW9y'"
   ]
  },
  {
   "cell_type": "markdown",
   "metadata": {},
   "source": [
    "Qaundl has a large number of data sources, but, unfortunately, most of them require a Premium subscription. Still, there are also a good number of free datasets."
   ]
  },
  {
   "cell_type": "markdown",
   "metadata": {},
   "source": [
    "For this mini project, we will focus on equities data from the Frankfurt Stock Exhange (FSE), which is available for free. We'll try and analyze the stock prices of a company called Carl Zeiss Meditec, which manufactures tools for eye examinations, as well as medical lasers for laser eye surgery: https://www.zeiss.com/meditec/int/home.html. The company is listed under the stock ticker AFX_X."
   ]
  },
  {
   "cell_type": "markdown",
   "metadata": {},
   "source": [
    "You can find the detailed Quandl API instructions here: https://docs.quandl.com/docs/time-series"
   ]
  },
  {
   "cell_type": "markdown",
   "metadata": {},
   "source": [
    "While there is a dedicated Python package for connecting to the Quandl API, we would prefer that you use the *requests* package, which can be easily downloaded using *pip* or *conda*. You can find the documentation for the package here: http://docs.python-requests.org/en/master/ "
   ]
  },
  {
   "cell_type": "markdown",
   "metadata": {},
   "source": [
    "Finally, apart from the *requests* package, you are encouraged to not use any third party Python packages, such as *pandas*, and instead focus on what's available in the Python Standard Library (the *collections* module might come in handy: https://pymotw.com/3/collections/).\n",
    "Also, since you won't have access to DataFrames, you are encouraged to us Python's native data structures - preferably dictionaries, though some questions can also be answered using lists.\n",
    "You can read more on these data structures here: https://docs.python.org/3/tutorial/datastructures.html"
   ]
  },
  {
   "cell_type": "markdown",
   "metadata": {},
   "source": [
    "Keep in mind that the JSON responses you will be getting from the API map almost one-to-one to Python's dictionaries. Unfortunately, they can be very nested, so make sure you read up on indexing dictionaries in the documentation provided above."
   ]
  },
  {
   "cell_type": "code",
   "execution_count": 136,
   "metadata": {},
   "outputs": [],
   "source": [
    "# First, import the relevant modules\n",
    "import requests\n"
   ]
  },
  {
   "cell_type": "code",
   "execution_count": 137,
   "metadata": {},
   "outputs": [],
   "source": [
    "# Now, call the Quandl API and pull out a small sample of the data (only one day) to get a glimpse\n",
    "# into the JSON structure that will be returned\n",
    "res_obj = requests.get('https://www.quandl.com/api/v3/datasets/FSE/AFX_X?start_date=2017.01.01&end_date=2017.12.31&api_key=vFyeeXumgxNU7yeVNW9y')"
   ]
  },
  {
   "cell_type": "code",
   "execution_count": 138,
   "metadata": {},
   "outputs": [
    {
     "name": "stdout",
     "output_type": "stream",
     "text": [
      "type: <class 'dict'>\n",
      "work data type: <class 'list'>\n",
      "Lenth of work data: 255\n",
      "['Date', 'Open', 'High', 'Low', 'Close', 'Change', 'Traded Volume', 'Turnover', 'Last Price of the Day', 'Daily Traded Units', 'Daily Turnover']\n",
      "['2017-12-29', 51.76, 51.94, 51.45, 51.76, None, 34640.0, 1792304.0, None, None, None]\n",
      "Highest opening price: 53.11\n",
      "Lowest opening price: 34.0\n",
      "The largest change in any one day: 2.8100000000000023\n",
      "The average daily trading volume during this year: 89124.33725490196\n",
      "The median trading volume during this year: 335197.0\n",
      "The largest change between any two days: 2.559999999999995\n"
     ]
    }
   ],
   "source": [
    "# Inspect the JSON structure of the object you created, and take note of how nested it is,\n",
    "# as well as the overall structure\n",
    "data_json = res_obj.json()\n",
    "print(\"type:\", type(data_json))\n",
    "#print(data_json)\n",
    "work_data = data_json['dataset']['data']\n",
    "print('work data type:', type(work_data))\n",
    "print('Lenth of work data:', len(work_data))\n",
    "print(data_json['dataset']['column_names'])\n",
    "print(work_data[0])\n",
    "#for i in range(len(work_data)):\n",
    "#    print(work_data[i])\n",
    "\n",
    "#Highest and lowest opening prices\n",
    "hopen = 0\n",
    "lopen = 10000\n",
    "for perday in work_data:\n",
    "    if type(perday[1]) == float:\n",
    "        #print(perday[1])\n",
    "        #print('perday[1] type:', type(perday[1]))\n",
    "        if hopen < perday[1]:\n",
    "            hopen = perday[1]\n",
    "        if lopen > perday[1]:\n",
    "            lopen = perday[1]\n",
    "\n",
    "print('Highest opening price:', hopen)\n",
    "print('Lowest opening price:', lopen)\n",
    "\n",
    "#the largest change in any one day (based on High and Low price)\n",
    "daydiff = 0\n",
    "avedaily_volume = 0\n",
    "daynum = 0\n",
    "maxvolume = 0\n",
    "minivolume = 10000000\n",
    "medianvolume = 0\n",
    "\n",
    "for perday in work_data:\n",
    "    if (type(perday[2]) == float) and (type(perday[3]) == float):\n",
    "        if daydiff < (perday[2] - perday[3]):\n",
    "           daydiff = perday[2] - perday[3] \n",
    "\n",
    "#the average daily trading volume during this year        \n",
    "    if (type(perday[6]) == float):\n",
    "        daynum += 1\n",
    "        avedaily_volume += perday[6]\n",
    "        \n",
    "        #find max and mini daily volume\n",
    "        if maxvolume < perday[6]:\n",
    "            maxvolume = perday[6]\n",
    "        if minivolume > perday[6]:\n",
    "            minivolume = perday[6]\n",
    "avedaily_volume = avedaily_volume/daynum\n",
    "\n",
    "#the median trading volume during this year \n",
    "medianvolume = (maxvolume + minivolume)/2\n",
    "\n",
    "\n",
    "print('The largest change in any one day:', daydiff)\n",
    "print('The average daily trading volume during this year:', avedaily_volume)\n",
    "print('The median trading volume during this year:', medianvolume)\n",
    "\n",
    "#the largest change between any two days (based on Closing Price)\n",
    "twodiff = 0\n",
    "for i in range(len(work_data)-1):\n",
    "    if (type(work_data[i][4]) == float) and (type(work_data[i+1][4]) == float):\n",
    "        if twodiff < abs(work_data[i][4] - work_data[i+1][4]):\n",
    "           twodiff = abs(work_data[i][4] - work_data[i+1][4]) \n",
    "\n",
    "print('The largest change between any two days:', twodiff)        \n",
    "\n",
    "\n",
    "\n",
    "\n"
   ]
  },
  {
   "cell_type": "markdown",
   "metadata": {},
   "source": [
    "These are your tasks for this mini project:\n",
    "\n",
    "1. Collect data from the Franfurt Stock Exchange, for the ticker AFX_X, for the whole year 2017 (keep in mind that the date format is YYYY-MM-DD).\n",
    "2. Convert the returned JSON object into a Python dictionary.\n",
    "3. Calculate what the highest and lowest opening prices were for the stock in this period.\n",
    "4. What was the largest change in any one day (based on High and Low price)?\n",
    "5. What was the largest change between any two days (based on Closing Price)?\n",
    "6. What was the average daily trading volume during this year?\n",
    "7. (Optional) What was the median trading volume during this year. (Note: you may need to implement your own function for calculating the median.)"
   ]
  },
  {
   "cell_type": "code",
   "execution_count": null,
   "metadata": {
    "collapsed": true
   },
   "outputs": [],
   "source": []
  }
 ],
 "metadata": {
  "kernelspec": {
   "display_name": "Python 3",
   "language": "python",
   "name": "python3"
  },
  "language_info": {
   "codemirror_mode": {
    "name": "ipython",
    "version": 3
   },
   "file_extension": ".py",
   "mimetype": "text/x-python",
   "name": "python",
   "nbconvert_exporter": "python",
   "pygments_lexer": "ipython3",
   "version": "3.5.2"
  }
 },
 "nbformat": 4,
 "nbformat_minor": 2
}
