{
 "cells": [
  {
   "cell_type": "markdown",
   "metadata": {},
   "source": [
    "# Deployment method of Face recognition application"
   ]
  },
  {
   "cell_type": "markdown",
   "metadata": {},
   "source": [
    "1 Load a trained face recognition model and y label"
   ]
  },
  {
   "cell_type": "code",
   "execution_count": 4,
   "metadata": {},
   "outputs": [],
   "source": [
    "import pickle \n",
    "\n",
    "def load_model():\n",
    "    global trained_model, y\n",
    "    #load trained model\n",
    "    model_path = 'face_model_file'\n",
    "    trained_model =  pickle.load(open(model_path, 'rb'))\n",
    "    y_path = 'y_list.txt'\n",
    "    with open(y_path, 'r') as filehandle:\n",
    "        y = [line.rstrip() for line in filehandle.readlines()]\n",
    "\n",
    "load_model()        "
   ]
  },
  {
   "cell_type": "markdown",
   "metadata": {},
   "source": [
    "2 Define a ‘predict’ endpoint"
   ]
  },
  {
   "cell_type": "code",
   "execution_count": null,
   "metadata": {},
   "outputs": [],
   "source": [
    "@app.route('/predict', methods=['POST'])\n",
    "def get_prediction():\n",
    "    # Works only for a single sample\n",
    "    if request.method == 'POST':\n",
    "        data = request.get_json()  # Get data posted as a json\n",
    "        data = np.array(data)[np.newaxis, :]  # converts shape from (4,) to (1, 4)\n",
    "        prediction = trained_model.predict(data)  # runs globally loaded model on the data\n",
    "    return str(prediction[0])"
   ]
  },
  {
   "cell_type": "markdown",
   "metadata": {},
   "source": [
    "3 Use app.py to wrap the inference logic in a flask server to serve the model as a REST webservice"
   ]
  },
  {
   "cell_type": "code",
   "execution_count": null,
   "metadata": {},
   "outputs": [],
   "source": [
    "# Serve model as a flask application\n",
    "\n",
    "import pickle\n",
    "import numpy as np\n",
    "from flask import Flask, request\n",
    "\n",
    "model = None\n",
    "app = Flask(__name__)\n",
    "\n",
    "\n",
    "def load_model():\n",
    "    global trained_model, y\n",
    "    #load trained model\n",
    "    model_path = 'face_model_file'\n",
    "    trained_model =  pickle.load(open(model_path, 'rb'))\n",
    "    y_path = 'y_list.txt'\n",
    "    with open(y_path, 'r') as filehandle:\n",
    "        y = [line.rstrip() for line in filehandle.readlines()]\n",
    "\n",
    "@app.route('/')\n",
    "def home_endpoint():\n",
    "    return 'Hello World!'\n",
    "\n",
    "\n",
    "@app.route('/predict', methods=['POST'])\n",
    "def get_prediction():\n",
    "    # Works only for a single sample\n",
    "    if request.method == 'POST':\n",
    "        data = request.get_json()  # Get data posted as a json\n",
    "        data = np.array(data)[np.newaxis, :]  # converts shape from (4,) to (1, 4)\n",
    "        prediction = trained_model.predict(data)  # runs globally loaded model on the data\n",
    "    return str(prediction[0])\n",
    "\n",
    "\n",
    "if __name__ == '__main__':\n",
    "    load_model()  # load model at the beginning once only\n",
    "    app.run(host='0.0.0.0', port=5000)"
   ]
  },
  {
   "cell_type": "markdown",
   "metadata": {},
   "source": [
    "4 Setup docker<br>\n",
    "#Install Docker on Ubuntu 18.04<br>\n",
    "$ sudo apt install docker.io<br>\n",
    "#Start and Automate Docker. The Docker service needs to be setup to run at startup<br>\n",
    "$ sudo systemctl start docker<br>\n",
    "$ sudo systemctl enable docker<br>\n",
    "Created symlink /etc/systemd/system/multi-user.target.wants/docker.service → /lib/systemd/system/docker.service.<br>\n"
   ]
  },
  {
   "cell_type": "markdown",
   "metadata": {},
   "source": [
    "5 Create a docker image. This image contains executing environment of app.py<br>\n",
    "$ docker build -t app-facerecog ."
   ]
  },
  {
   "cell_type": "code",
   "execution_count": null,
   "metadata": {},
   "outputs": [],
   "source": [
    "6 Execute docker image<br>\n",
    "docker run -p 80:80 app-facerecog ."
   ]
  }
 ],
 "metadata": {
  "kernelspec": {
   "display_name": "Python 3",
   "language": "python",
   "name": "python3"
  },
  "language_info": {
   "codemirror_mode": {
    "name": "ipython",
    "version": 3
   },
   "file_extension": ".py",
   "mimetype": "text/x-python",
   "name": "python",
   "nbconvert_exporter": "python",
   "pygments_lexer": "ipython3",
   "version": "3.6.9"
  }
 },
 "nbformat": 4,
 "nbformat_minor": 4
}
