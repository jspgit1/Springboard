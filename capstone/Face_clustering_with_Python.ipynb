{
 "cells": [
  {
   "cell_type": "code",
   "execution_count": null,
   "metadata": {},
   "outputs": [],
   "source": [
    "#Face clustering with Python"
   ]
  },
  {
   "cell_type": "markdown",
   "metadata": {},
   "source": [
    "Face clustering with Python<br>\n",
    "$ tree --dirsfirst<br>\n",
    ".<br>\n",
    "├── dataset [129 entries]<br>\n",
    "│   ├── 00000000.jpg<br>\n",
    "│   ├── 00000001.jpg<br><br>\n",
    "│   ├── 00000002.jpg<br>\n",
    "│   ├── ...<br>\n",
    "│   ├── 00000126.jpg<br>\n",
    "│   ├── 00000127.jpg<br>\n",
    "│   └── 00000128.jpg<br>\n",
    "├── encode_faces.py<br>\n",
    "├── encodings.pickle<br>\n",
    "└── cluster_faces.py<br>\n"
   ]
  },
  {
   "cell_type": "code",
   "execution_count": 2,
   "metadata": {},
   "outputs": [
    {
     "name": "stderr",
     "output_type": "stream",
     "text": [
      "usage: ipykernel_launcher.py [-h] -i DATASET -e ENCODINGS\n",
      "                             [-d DETECTION_METHOD]\n",
      "ipykernel_launcher.py: error: the following arguments are required: -i/--dataset, -e/--encodings\n"
     ]
    },
    {
     "ename": "SystemExit",
     "evalue": "2",
     "output_type": "error",
     "traceback": [
      "An exception has occurred, use %tb to see the full traceback.\n",
      "\u001b[0;31mSystemExit\u001b[0m\u001b[0;31m:\u001b[0m 2\n"
     ]
    },
    {
     "name": "stderr",
     "output_type": "stream",
     "text": [
      "/home/simon/.virtualenvs/face1/lib/python3.6/site-packages/IPython/core/interactiveshell.py:3351: UserWarning: To exit: use 'exit', 'quit', or Ctrl-D.\n",
      "  warn(\"To exit: use 'exit', 'quit', or Ctrl-D.\", stacklevel=1)\n"
     ]
    }
   ],
   "source": [
    "# import the necessary packages\n",
    "from imutils import paths\n",
    "import face_recognition\n",
    "import argparse\n",
    "import pickle\n",
    "import cv2\n",
    "import os\n",
    "# construct the argument parser and parse the arguments\n",
    "ap = argparse.ArgumentParser()\n",
    "ap.add_argument(\"-i\", \"--dataset\", required=True,\n",
    "\thelp=\"path to input directory of faces + images\")\n",
    "ap.add_argument(\"-e\", \"--encodings\", required=True,\n",
    "\thelp=\"path to serialized db of facial encodings\")\n",
    "ap.add_argument(\"-d\", \"--detection-method\", type=str, default=\"cnn\",\n",
    "\thelp=\"face detection model to use: either `hog` or `cnn`\")\n",
    "args = vars(ap.parse_args())\n"
   ]
  },
  {
   "cell_type": "code",
   "execution_count": null,
   "metadata": {},
   "outputs": [],
   "source": [
    "# grab the paths to the input images in our dataset, then initialize\n",
    "# out data list (which we'll soon populate)\n",
    "print(\"[INFO] quantifying faces...\")\n",
    "imagePaths = list(paths.list_images(args[\"dataset\"]))\n",
    "data = []"
   ]
  },
  {
   "cell_type": "code",
   "execution_count": null,
   "metadata": {},
   "outputs": [],
   "source": [
    "# loop over the image paths\n",
    "for (i, imagePath) in enumerate(imagePaths):\n",
    "\t# load the input image and convert it from RGB (OpenCV ordering)\n",
    "\t# to dlib ordering (RGB)\n",
    "\tprint(\"[INFO] processing image {}/{}\".format(i + 1,\n",
    "\t\tlen(imagePaths)))\n",
    "\tprint(imagePath)\n",
    "\timage = cv2.imread(imagePath)\n",
    "\trgb = cv2.cvtColor(image, cv2.COLOR_BGR2RGB)\n"
   ]
  },
  {
   "cell_type": "code",
   "execution_count": null,
   "metadata": {},
   "outputs": [],
   "source": [
    "\t# detect the (x, y)-coordinates of the bounding boxes\n",
    "\t# corresponding to each face in the input image\n",
    "\tboxes = face_recognition.face_locations(rgb,\n",
    "\t\tmodel=args[\"detection_method\"])\n"
   ]
  },
  {
   "cell_type": "code",
   "execution_count": null,
   "metadata": {},
   "outputs": [],
   "source": [
    "\t# compute the facial embedding for the face\n",
    "\tencodings = face_recognition.face_encodings(rgb, boxes)\n",
    "\t# build a dictionary of the image path, bounding box location,\n",
    "\t# and facial encodings for the current image\n",
    "\td = [{\"imagePath\": imagePath, \"loc\": box, \"encoding\": enc}\n",
    "\t\tfor (box, enc) in zip(boxes, encodings)]\n",
    "\tdata.extend(d)"
   ]
  },
  {
   "cell_type": "code",
   "execution_count": null,
   "metadata": {},
   "outputs": [],
   "source": [
    "# dump the facial encodings data to disk\n",
    "print(\"[INFO] serializing encodings...\")\n",
    "f = open(args[\"encodings\"], \"wb\")\n",
    "f.write(pickle.dumps(data))\n",
    "f.close()\n"
   ]
  },
  {
   "cell_type": "code",
   "execution_count": null,
   "metadata": {},
   "outputs": [],
   "source": [
    "#cluster_faces.py"
   ]
  },
  {
   "cell_type": "code",
   "execution_count": null,
   "metadata": {},
   "outputs": [],
   "source": [
    "# import the necessary packages\n",
    "from sklearn.cluster import DBSCAN\n",
    "from imutils import build_montages\n",
    "import numpy as np\n",
    "import argparse\n",
    "import pickle\n",
    "import cv2\n",
    "# construct the argument parser and parse the arguments\n",
    "ap = argparse.ArgumentParser()\n",
    "ap.add_argument(\"-e\", \"--encodings\", required=True,\n",
    "\thelp=\"path to serialized db of facial encodings\")\n",
    "ap.add_argument(\"-j\", \"--jobs\", type=int, default=-1,\n",
    "\thelp=\"# of parallel jobs to run (-1 will use all CPUs)\")\n",
    "args = vars(ap.parse_args())"
   ]
  },
  {
   "cell_type": "code",
   "execution_count": null,
   "metadata": {},
   "outputs": [],
   "source": [
    "# load the serialized face encodings + bounding box locations from\n",
    "# disk, then extract the set of encodings to so we can cluster on\n",
    "# them\n",
    "print(\"[INFO] loading encodings...\")\n",
    "data = pickle.loads(open(args[\"encodings\"], \"rb\").read())\n",
    "data = np.array(data)\n",
    "encodings = [d[\"encoding\"] for d in data]\n"
   ]
  },
  {
   "cell_type": "code",
   "execution_count": null,
   "metadata": {},
   "outputs": [],
   "source": [
    "# cluster the embeddings\n",
    "print(\"[INFO] clustering...\")\n",
    "clt = DBSCAN(metric=\"euclidean\", n_jobs=args[\"jobs\"])\n",
    "clt.fit(encodings)\n",
    "# determine the total number of unique faces found in the dataset\n",
    "labelIDs = np.unique(clt.labels_)\n",
    "numUniqueFaces = len(np.where(labelIDs > -1)[0])\n",
    "print(\"[INFO] # unique faces: {}\".format(numUniqueFaces))\n"
   ]
  },
  {
   "cell_type": "code",
   "execution_count": null,
   "metadata": {},
   "outputs": [],
   "source": [
    "# loop over the unique face integers\n",
    "for labelID in labelIDs:\n",
    "\t# find all indexes into the `data` array that belong to the\n",
    "\t# current label ID, then randomly sample a maximum of 25 indexes\n",
    "\t# from the set\n",
    "\tprint(\"[INFO] faces for face ID: {}\".format(labelID))\n",
    "\tidxs = np.where(clt.labels_ == labelID)[0]\n",
    "\tidxs = np.random.choice(idxs, size=min(25, len(idxs)),\n",
    "\t\treplace=False)\n",
    "\t# initialize the list of faces to include in the montage\n",
    "\tfaces = []"
   ]
  },
  {
   "cell_type": "code",
   "execution_count": null,
   "metadata": {},
   "outputs": [],
   "source": [
    "\t# loop over the sampled indexes\n",
    "\tfor i in idxs:\n",
    "\t\t# load the input image and extract the face ROI\n",
    "\t\timage = cv2.imread(data[i][\"imagePath\"])\n",
    "\t\t(top, right, bottom, left) = data[i][\"loc\"]\n",
    "\t\tface = image[top:bottom, left:right]\n",
    "\t\t# force resize the face ROI to 96x96 and then add it to the\n",
    "\t\t# faces montage list\n",
    "\t\tface = cv2.resize(face, (96, 96))\n",
    "\t\tfaces.append(face)\n"
   ]
  },
  {
   "cell_type": "code",
   "execution_count": null,
   "metadata": {},
   "outputs": [],
   "source": [
    "\t# create a montage using 96x96 \"tiles\" with 5 rows and 5 columns\n",
    "\tmontage = build_montages(faces, (96, 96), (5, 5))[0]\n",
    "\t\n",
    "\t# show the output montage\n",
    "\ttitle = \"Face ID #{}\".format(labelID)\n",
    "\ttitle = \"Unknown Faces\" if labelID == -1 else title\n",
    "\tcv2.imshow(title, montage)\n",
    "\tcv2.waitKey(0)"
   ]
  },
  {
   "cell_type": "code",
   "execution_count": null,
   "metadata": {},
   "outputs": [],
   "source": []
  },
  {
   "cell_type": "code",
   "execution_count": null,
   "metadata": {},
   "outputs": [],
   "source": []
  }
 ],
 "metadata": {
  "kernelspec": {
   "display_name": "Python 3",
   "language": "python",
   "name": "python3"
  },
  "language_info": {
   "codemirror_mode": {
    "name": "ipython",
    "version": 3
   },
   "file_extension": ".py",
   "mimetype": "text/x-python",
   "name": "python",
   "nbconvert_exporter": "python",
   "pygments_lexer": "ipython3",
   "version": "3.6.9"
  }
 },
 "nbformat": 4,
 "nbformat_minor": 4
}
