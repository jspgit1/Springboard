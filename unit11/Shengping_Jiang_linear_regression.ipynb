{
 "cells": [
  {
   "cell_type": "code",
   "execution_count": 2,
   "metadata": {},
   "outputs": [],
   "source": [
    "#Linear regression\n",
    "# Python code to illustrate  \n",
    "# regression using data set \n",
    "#import matplotlib \n",
    "#matplotlib.use('GTKAgg') \n",
    "   \n",
    "import matplotlib.pyplot as plt \n",
    "import numpy as np \n",
    "from sklearn import datasets, linear_model \n",
    "import pandas as pd \n",
    "   "
   ]
  },
  {
   "cell_type": "code",
   "execution_count": 4,
   "metadata": {},
   "outputs": [],
   "source": [
    "# Load CSV and columns \n",
    "df = pd.read_csv(\"Housing.csv\") \n",
    "   \n",
    "Y = df['price'] \n",
    "X = df['lotsize'] \n",
    "   \n",
    "X=X.values.reshape(len(X),1) \n",
    "Y=Y.values.reshape(len(Y),1) "
   ]
  },
  {
   "cell_type": "code",
   "execution_count": 5,
   "metadata": {},
   "outputs": [],
   "source": [
    "# Split the data into training/testing sets \n",
    "X_train = X[:-250] \n",
    "X_test = X[-250:] \n",
    "   \n",
    "# Split the targets into training/testing sets \n",
    "Y_train = Y[:-250] \n",
    "Y_test = Y[-250:] \n",
    "   "
   ]
  },
  {
   "cell_type": "code",
   "execution_count": 6,
   "metadata": {
    "scrolled": true
   },
   "outputs": [
    {
     "data": {
      "text/plain": [
       "([], <a list of 0 Text yticklabel objects>)"
      ]
     },
     "execution_count": 6,
     "metadata": {},
     "output_type": "execute_result"
    },
    {
     "data": {
      "image/png": "[encoded data removed]",
      "text/plain": [
       "<Figure size 432x288 with 1 Axes>"
      ]
     },
     "metadata": {},
     "output_type": "display_data"
    }
   ],
   "source": [
    "\n",
    "# Plot outputs \n",
    "plt.scatter(X_test, Y_test,  color='black') \n",
    "plt.title('Test Data') \n",
    "plt.xlabel('Size') \n",
    "plt.ylabel('Price') \n",
    "plt.xticks(()) \n",
    "plt.yticks(()) "
   ]
  },
  {
   "cell_type": "code",
   "execution_count": 7,
   "metadata": {},
   "outputs": [
    {
     "data": {
      "text/plain": [
       "LinearRegression(copy_X=True, fit_intercept=True, n_jobs=None, normalize=False)"
      ]
     },
     "execution_count": 7,
     "metadata": {},
     "output_type": "execute_result"
    }
   ],
   "source": [
    "# Create linear regression object \n",
    "regr = linear_model.LinearRegression() \n",
    "   \n",
    "# Train the model using the training sets \n",
    "regr.fit(X_train, Y_train) "
   ]
  },
  {
   "cell_type": "code",
   "execution_count": 9,
   "metadata": {},
   "outputs": [
    {
     "data": {
      "image/png": "[encoded data removed]",
      "text/plain": [
       "<Figure size 432x288 with 1 Axes>"
      ]
     },
     "metadata": {
      "needs_background": "light"
     },
     "output_type": "display_data"
    }
   ],
   "source": [
    "# Plot outputs. 'k.' means black dot. The graph below shows traing points and trained line model \n",
    "plt.plot(X_train, Y_train, 'k.')\n",
    "plt.plot(X_test, regr.predict(X_test), color='red',linewidth=3) \n",
    "plt.show() "
   ]
  },
  {
   "cell_type": "code",
   "execution_count": 12,
   "metadata": {},
   "outputs": [],
   "source": [
    "# Second program, training clssifier by using iris data\n",
    "# Python code to illustrate  \n",
    "# classification using data set \n",
    "#Importing the required library \n",
    "import pandas as pd \n",
    "from sklearn.model_selection import train_test_split \n",
    "from sklearn.ensemble import RandomForestClassifier \n",
    "from sklearn.preprocessing import LabelEncoder \n",
    "from sklearn.metrics import confusion_matrix \n",
    "from sklearn.metrics import accuracy_score \n",
    "from sklearn.metrics import classification_report "
   ]
  },
  {
   "cell_type": "code",
   "execution_count": 13,
   "metadata": {},
   "outputs": [],
   "source": [
    "#Importing the dataset \n",
    "dataset = pd.read_csv( \n",
    "          'https://archive.ics.uci.edu/ml/machine-learning-'+\n",
    "          'databases/iris/iris.data',sep= ',', header= None) \n",
    "data = dataset.iloc[:, :] "
   ]
  },
  {
   "cell_type": "code",
   "execution_count": 14,
   "metadata": {},
   "outputs": [
    {
     "name": "stdout",
     "output_type": "stream",
     "text": [
      "Sum of NULL values in each column. \n",
      "0    0\n",
      "1    0\n",
      "2    0\n",
      "3    0\n",
      "4    0\n",
      "dtype: int64\n"
     ]
    }
   ],
   "source": [
    "#checking for null values \n",
    "print(\"Sum of NULL values in each column. \") \n",
    "print(data.isnull().sum()) \n",
    "  \n",
    "#seperating the predicting column from the whole dataset \n",
    "X = data.iloc[:, :-1].values \n",
    "y = dataset.iloc[:, 4].values \n",
    "  \n",
    "#Encoding the predicting variable \n",
    "labelencoder_y = LabelEncoder() \n",
    "y = labelencoder_y.fit_transform(y) \n",
    "  \n",
    "#Splitting the data into test and train dataset \n",
    "X_train, X_test, y_train, y_test = train_test_split( \n",
    "              X, y, test_size = 0.3, random_state = 0) "
   ]
  },
  {
   "cell_type": "code",
   "execution_count": 15,
   "metadata": {},
   "outputs": [],
   "source": [
    "#Using the random forest classifier for the prediction \n",
    "classifier=RandomForestClassifier() \n",
    "classifier=classifier.fit(X_train,y_train) \n",
    "predicted=classifier.predict(X_test) "
   ]
  },
  {
   "cell_type": "code",
   "execution_count": 16,
   "metadata": {},
   "outputs": [
    {
     "name": "stdout",
     "output_type": "stream",
     "text": [
      "Confusion Matrix :\n",
      "[[16  0  0]\n",
      " [ 0 17  1]\n",
      " [ 0  0 11]]\n",
      "Accuracy Score : 0.9777777777777777\n",
      "Report : \n",
      "              precision    recall  f1-score   support\n",
      "\n",
      "           0       1.00      1.00      1.00        16\n",
      "           1       1.00      0.94      0.97        18\n",
      "           2       0.92      1.00      0.96        11\n",
      "\n",
      "    accuracy                           0.98        45\n",
      "   macro avg       0.97      0.98      0.98        45\n",
      "weighted avg       0.98      0.98      0.98        45\n",
      "\n"
     ]
    }
   ],
   "source": [
    "#printing the results \n",
    "print ('Confusion Matrix :') \n",
    "print(confusion_matrix(y_test, predicted)) \n",
    "print ('Accuracy Score :',accuracy_score(y_test, predicted)) \n",
    "print ('Report : ') \n",
    "print (classification_report(y_test, predicted)) "
   ]
  },
  {
   "cell_type": "code",
   "execution_count": null,
   "metadata": {},
   "outputs": [],
   "source": []
  },
  {
   "cell_type": "code",
   "execution_count": null,
   "metadata": {},
   "outputs": [],
   "source": []
  }
 ],
 "metadata": {
  "kernelspec": {
   "display_name": "Python 3",
   "language": "python",
   "name": "python3"
  },
  "language_info": {
   "codemirror_mode": {
    "name": "ipython",
    "version": 3
   },
   "file_extension": ".py",
   "mimetype": "text/x-python",
   "name": "python",
   "nbconvert_exporter": "python",
   "pygments_lexer": "ipython3",
   "version": "3.7.7"
  }
 },
 "nbformat": 4,
 "nbformat_minor": 4
}
